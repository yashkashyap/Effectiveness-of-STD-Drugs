{
  "nbformat": 4,
  "nbformat_minor": 0,
  "metadata": {
    "colab": {
      "name": "STD_drugs.ipynb",
      "provenance": [],
      "collapsed_sections": []
    },
    "kernelspec": {
      "name": "python3",
      "display_name": "Python 3"
    }
  },
  "cells": [
    {
      "cell_type": "code",
      "metadata": {
        "id": "aL6JVtSSqOIC",
        "colab_type": "code",
        "colab": {}
      },
      "source": [
        "import numpy as np\n",
        "import pandas as pd\n",
        "import matplotlib.pyplot as plt\n",
        "import seaborn as sns\n",
        "from sklearn.preprocessing import StandardScaler, MinMaxScaler\n",
        "\n",
        "%matplotlib inline"
      ],
      "execution_count": 0,
      "outputs": []
    },
    {
      "cell_type": "code",
      "metadata": {
        "id": "ziDxAfwVqdCI",
        "colab_type": "code",
        "colab": {}
      },
      "source": [
        "train = pd.read_csv('/content/drive/My Drive/DATASETS/STD/train.csv')\n",
        "test  = pd.read_csv('/content/drive/My Drive/DATASETS/STD/test.csv')"
      ],
      "execution_count": 0,
      "outputs": []
    },
    {
      "cell_type": "code",
      "metadata": {
        "id": "tO_LxBmoqu9l",
        "colab_type": "code",
        "colab": {}
      },
      "source": [
        "train.drop(['name_of_drug', 'use_case_for_drug'], axis = 1, inplace = True)\n",
        "test.drop(['name_of_drug', 'use_case_for_drug'], axis = 1, inplace = True)"
      ],
      "execution_count": 0,
      "outputs": []
    },
    {
      "cell_type": "code",
      "metadata": {
        "id": "PvYP0PdcuK9-",
        "colab_type": "code",
        "colab": {}
      },
      "source": [
        "def DatePartition(df):\n",
        "\n",
        "  day = []\n",
        "  month = []\n",
        "  year = []\n",
        "\n",
        "  for _ in df.drug_approved_by_UIC:\n",
        "    x = pd.to_datetime(_)\n",
        "    day.append(x.day)\n",
        "    month.append(x.month)\n",
        "    year.append(x.year)\n",
        "\n",
        "  drug_approved_day = pd.DataFrame(data=day, columns=['drug_approved_date'])\n",
        "  drug_approved_month = pd.DataFrame(data=month, columns=['drug_approved_month'])\n",
        "  drug_approved_year = pd.DataFrame(data=year, columns=['drug_approved_year'])\n",
        "\n",
        "  df = pd.concat([df, drug_approved_day, drug_approved_month, drug_approved_year], axis=1)\n",
        "\n",
        "  return df"
      ],
      "execution_count": 0,
      "outputs": []
    },
    {
      "cell_type": "code",
      "metadata": {
        "id": "ADvyF9pSq-Wm",
        "colab_type": "code",
        "colab": {}
      },
      "source": [
        "train = DatePartition(train)\n",
        "test = DatePartition(test)"
      ],
      "execution_count": 0,
      "outputs": []
    },
    {
      "cell_type": "code",
      "metadata": {
        "id": "8_n9YfvzwHFF",
        "colab_type": "code",
        "colab": {}
      },
      "source": [
        "train.drop('drug_approved_by_UIC', axis = 1, inplace = True)\n",
        "test.drop('drug_approved_by_UIC', axis = 1, inplace = True)"
      ],
      "execution_count": 0,
      "outputs": []
    },
    {
      "cell_type": "code",
      "metadata": {
        "id": "PA-OqdyEwYi8",
        "colab_type": "code",
        "colab": {}
      },
      "source": [
        "train.review_by_patient = train.review_by_patient.apply(lambda x : len(x))\n",
        "test.review_by_patient = test.review_by_patient.apply(lambda x : len(x))"
      ],
      "execution_count": 0,
      "outputs": []
    },
    {
      "cell_type": "code",
      "metadata": {
        "id": "UrJHRH5zrPN_",
        "colab_type": "code",
        "outputId": "342515ff-15a0-499a-a8ad-494205859a61",
        "colab": {
          "base_uri": "https://localhost:8080/",
          "height": 224
        }
      },
      "source": [
        "train.head()"
      ],
      "execution_count": 584,
      "outputs": [
        {
          "output_type": "execute_result",
          "data": {
            "text/html": [
              "<div>\n",
              "<style scoped>\n",
              "    .dataframe tbody tr th:only-of-type {\n",
              "        vertical-align: middle;\n",
              "    }\n",
              "\n",
              "    .dataframe tbody tr th {\n",
              "        vertical-align: top;\n",
              "    }\n",
              "\n",
              "    .dataframe thead th {\n",
              "        text-align: right;\n",
              "    }\n",
              "</style>\n",
              "<table border=\"1\" class=\"dataframe\">\n",
              "  <thead>\n",
              "    <tr style=\"text-align: right;\">\n",
              "      <th></th>\n",
              "      <th>patient_id</th>\n",
              "      <th>review_by_patient</th>\n",
              "      <th>effectiveness_rating</th>\n",
              "      <th>number_of_times_prescribed</th>\n",
              "      <th>base_score</th>\n",
              "      <th>drug_approved_date</th>\n",
              "      <th>drug_approved_month</th>\n",
              "      <th>drug_approved_year</th>\n",
              "    </tr>\n",
              "  </thead>\n",
              "  <tbody>\n",
              "    <tr>\n",
              "      <th>0</th>\n",
              "      <td>206461</td>\n",
              "      <td>79</td>\n",
              "      <td>9</td>\n",
              "      <td>27</td>\n",
              "      <td>8.022969</td>\n",
              "      <td>20</td>\n",
              "      <td>5</td>\n",
              "      <td>2012</td>\n",
              "    </tr>\n",
              "    <tr>\n",
              "      <th>1</th>\n",
              "      <td>95260</td>\n",
              "      <td>741</td>\n",
              "      <td>8</td>\n",
              "      <td>192</td>\n",
              "      <td>7.858458</td>\n",
              "      <td>27</td>\n",
              "      <td>4</td>\n",
              "      <td>2010</td>\n",
              "    </tr>\n",
              "    <tr>\n",
              "      <th>2</th>\n",
              "      <td>92703</td>\n",
              "      <td>755</td>\n",
              "      <td>5</td>\n",
              "      <td>17</td>\n",
              "      <td>6.341969</td>\n",
              "      <td>14</td>\n",
              "      <td>12</td>\n",
              "      <td>2009</td>\n",
              "    </tr>\n",
              "    <tr>\n",
              "      <th>3</th>\n",
              "      <td>35696</td>\n",
              "      <td>719</td>\n",
              "      <td>9</td>\n",
              "      <td>37</td>\n",
              "      <td>6.590176</td>\n",
              "      <td>27</td>\n",
              "      <td>11</td>\n",
              "      <td>2016</td>\n",
              "    </tr>\n",
              "    <tr>\n",
              "      <th>4</th>\n",
              "      <td>155963</td>\n",
              "      <td>403</td>\n",
              "      <td>2</td>\n",
              "      <td>43</td>\n",
              "      <td>6.144782</td>\n",
              "      <td>28</td>\n",
              "      <td>11</td>\n",
              "      <td>2015</td>\n",
              "    </tr>\n",
              "  </tbody>\n",
              "</table>\n",
              "</div>"
            ],
            "text/plain": [
              "   patient_id  review_by_patient  ...  drug_approved_month  drug_approved_year\n",
              "0      206461                 79  ...                    5                2012\n",
              "1       95260                741  ...                    4                2010\n",
              "2       92703                755  ...                   12                2009\n",
              "3       35696                719  ...                   11                2016\n",
              "4      155963                403  ...                   11                2015\n",
              "\n",
              "[5 rows x 8 columns]"
            ]
          },
          "metadata": {
            "tags": []
          },
          "execution_count": 584
        }
      ]
    },
    {
      "cell_type": "code",
      "metadata": {
        "id": "eTXE2FjnruE1",
        "colab_type": "code",
        "outputId": "1fcc9e02-5ee1-470c-d2f9-d635b0c9e50e",
        "colab": {
          "base_uri": "https://localhost:8080/",
          "height": 224
        }
      },
      "source": [
        "test.head()"
      ],
      "execution_count": 585,
      "outputs": [
        {
          "output_type": "execute_result",
          "data": {
            "text/html": [
              "<div>\n",
              "<style scoped>\n",
              "    .dataframe tbody tr th:only-of-type {\n",
              "        vertical-align: middle;\n",
              "    }\n",
              "\n",
              "    .dataframe tbody tr th {\n",
              "        vertical-align: top;\n",
              "    }\n",
              "\n",
              "    .dataframe thead th {\n",
              "        text-align: right;\n",
              "    }\n",
              "</style>\n",
              "<table border=\"1\" class=\"dataframe\">\n",
              "  <thead>\n",
              "    <tr style=\"text-align: right;\">\n",
              "      <th></th>\n",
              "      <th>patient_id</th>\n",
              "      <th>review_by_patient</th>\n",
              "      <th>number_of_times_prescribed</th>\n",
              "      <th>effectiveness_rating</th>\n",
              "      <th>drug_approved_date</th>\n",
              "      <th>drug_approved_month</th>\n",
              "      <th>drug_approved_year</th>\n",
              "    </tr>\n",
              "  </thead>\n",
              "  <tbody>\n",
              "    <tr>\n",
              "      <th>0</th>\n",
              "      <td>163740</td>\n",
              "      <td>439</td>\n",
              "      <td>22</td>\n",
              "      <td>10</td>\n",
              "      <td>28</td>\n",
              "      <td>2</td>\n",
              "      <td>2012</td>\n",
              "    </tr>\n",
              "    <tr>\n",
              "      <th>1</th>\n",
              "      <td>39293</td>\n",
              "      <td>782</td>\n",
              "      <td>35</td>\n",
              "      <td>9</td>\n",
              "      <td>5</td>\n",
              "      <td>3</td>\n",
              "      <td>2017</td>\n",
              "    </tr>\n",
              "    <tr>\n",
              "      <th>2</th>\n",
              "      <td>208087</td>\n",
              "      <td>300</td>\n",
              "      <td>13</td>\n",
              "      <td>4</td>\n",
              "      <td>3</td>\n",
              "      <td>7</td>\n",
              "      <td>2014</td>\n",
              "    </tr>\n",
              "    <tr>\n",
              "      <th>3</th>\n",
              "      <td>23295</td>\n",
              "      <td>407</td>\n",
              "      <td>21</td>\n",
              "      <td>7</td>\n",
              "      <td>18</td>\n",
              "      <td>10</td>\n",
              "      <td>2016</td>\n",
              "    </tr>\n",
              "    <tr>\n",
              "      <th>4</th>\n",
              "      <td>97013</td>\n",
              "      <td>243</td>\n",
              "      <td>44</td>\n",
              "      <td>2</td>\n",
              "      <td>13</td>\n",
              "      <td>1</td>\n",
              "      <td>2015</td>\n",
              "    </tr>\n",
              "  </tbody>\n",
              "</table>\n",
              "</div>"
            ],
            "text/plain": [
              "   patient_id  review_by_patient  ...  drug_approved_month  drug_approved_year\n",
              "0      163740                439  ...                    2                2012\n",
              "1       39293                782  ...                    3                2017\n",
              "2      208087                300  ...                    7                2014\n",
              "3       23295                407  ...                   10                2016\n",
              "4       97013                243  ...                    1                2015\n",
              "\n",
              "[5 rows x 7 columns]"
            ]
          },
          "metadata": {
            "tags": []
          },
          "execution_count": 585
        }
      ]
    },
    {
      "cell_type": "code",
      "metadata": {
        "id": "GZfWvYo_zZQH",
        "colab_type": "code",
        "colab": {}
      },
      "source": [
        "corr = train.drop('patient_id', axis = 1).corr()"
      ],
      "execution_count": 0,
      "outputs": []
    },
    {
      "cell_type": "code",
      "metadata": {
        "id": "ml5z6O7wzptr",
        "colab_type": "code",
        "outputId": "b080f33e-f347-41c7-d949-8f472bed9781",
        "colab": {
          "base_uri": "https://localhost:8080/",
          "height": 286
        }
      },
      "source": [
        "corr"
      ],
      "execution_count": 587,
      "outputs": [
        {
          "output_type": "execute_result",
          "data": {
            "text/html": [
              "<div>\n",
              "<style scoped>\n",
              "    .dataframe tbody tr th:only-of-type {\n",
              "        vertical-align: middle;\n",
              "    }\n",
              "\n",
              "    .dataframe tbody tr th {\n",
              "        vertical-align: top;\n",
              "    }\n",
              "\n",
              "    .dataframe thead th {\n",
              "        text-align: right;\n",
              "    }\n",
              "</style>\n",
              "<table border=\"1\" class=\"dataframe\">\n",
              "  <thead>\n",
              "    <tr style=\"text-align: right;\">\n",
              "      <th></th>\n",
              "      <th>review_by_patient</th>\n",
              "      <th>effectiveness_rating</th>\n",
              "      <th>number_of_times_prescribed</th>\n",
              "      <th>base_score</th>\n",
              "      <th>drug_approved_date</th>\n",
              "      <th>drug_approved_month</th>\n",
              "      <th>drug_approved_year</th>\n",
              "    </tr>\n",
              "  </thead>\n",
              "  <tbody>\n",
              "    <tr>\n",
              "      <th>review_by_patient</th>\n",
              "      <td>1.000000</td>\n",
              "      <td>0.017553</td>\n",
              "      <td>0.025760</td>\n",
              "      <td>-0.001430</td>\n",
              "      <td>-0.005996</td>\n",
              "      <td>-0.000190</td>\n",
              "      <td>0.242496</td>\n",
              "    </tr>\n",
              "    <tr>\n",
              "      <th>effectiveness_rating</th>\n",
              "      <td>0.017553</td>\n",
              "      <td>1.000000</td>\n",
              "      <td>0.242224</td>\n",
              "      <td>0.412301</td>\n",
              "      <td>0.009317</td>\n",
              "      <td>-0.029063</td>\n",
              "      <td>-0.197356</td>\n",
              "    </tr>\n",
              "    <tr>\n",
              "      <th>number_of_times_prescribed</th>\n",
              "      <td>0.025760</td>\n",
              "      <td>0.242224</td>\n",
              "      <td>1.000000</td>\n",
              "      <td>0.134295</td>\n",
              "      <td>-0.002953</td>\n",
              "      <td>-0.036221</td>\n",
              "      <td>-0.271538</td>\n",
              "    </tr>\n",
              "    <tr>\n",
              "      <th>base_score</th>\n",
              "      <td>-0.001430</td>\n",
              "      <td>0.412301</td>\n",
              "      <td>0.134295</td>\n",
              "      <td>1.000000</td>\n",
              "      <td>0.007081</td>\n",
              "      <td>-0.028621</td>\n",
              "      <td>-0.085285</td>\n",
              "    </tr>\n",
              "    <tr>\n",
              "      <th>drug_approved_date</th>\n",
              "      <td>-0.005996</td>\n",
              "      <td>0.009317</td>\n",
              "      <td>-0.002953</td>\n",
              "      <td>0.007081</td>\n",
              "      <td>1.000000</td>\n",
              "      <td>-0.019641</td>\n",
              "      <td>-0.012882</td>\n",
              "    </tr>\n",
              "    <tr>\n",
              "      <th>drug_approved_month</th>\n",
              "      <td>-0.000190</td>\n",
              "      <td>-0.029063</td>\n",
              "      <td>-0.036221</td>\n",
              "      <td>-0.028621</td>\n",
              "      <td>-0.019641</td>\n",
              "      <td>1.000000</td>\n",
              "      <td>-0.086779</td>\n",
              "    </tr>\n",
              "    <tr>\n",
              "      <th>drug_approved_year</th>\n",
              "      <td>0.242496</td>\n",
              "      <td>-0.197356</td>\n",
              "      <td>-0.271538</td>\n",
              "      <td>-0.085285</td>\n",
              "      <td>-0.012882</td>\n",
              "      <td>-0.086779</td>\n",
              "      <td>1.000000</td>\n",
              "    </tr>\n",
              "  </tbody>\n",
              "</table>\n",
              "</div>"
            ],
            "text/plain": [
              "                            review_by_patient  ...  drug_approved_year\n",
              "review_by_patient                    1.000000  ...            0.242496\n",
              "effectiveness_rating                 0.017553  ...           -0.197356\n",
              "number_of_times_prescribed           0.025760  ...           -0.271538\n",
              "base_score                          -0.001430  ...           -0.085285\n",
              "drug_approved_date                  -0.005996  ...           -0.012882\n",
              "drug_approved_month                 -0.000190  ...           -0.086779\n",
              "drug_approved_year                   0.242496  ...            1.000000\n",
              "\n",
              "[7 rows x 7 columns]"
            ]
          },
          "metadata": {
            "tags": []
          },
          "execution_count": 587
        }
      ]
    },
    {
      "cell_type": "code",
      "metadata": {
        "id": "W5jBnmj8zsOF",
        "colab_type": "code",
        "outputId": "9d305304-7277-4f04-9f45-88d2b66974e1",
        "colab": {
          "base_uri": "https://localhost:8080/",
          "height": 747
        }
      },
      "source": [
        "plt.figure(figsize = (15,10))\n",
        "sns.heatmap(corr)"
      ],
      "execution_count": 588,
      "outputs": [
        {
          "output_type": "execute_result",
          "data": {
            "text/plain": [
              "<matplotlib.axes._subplots.AxesSubplot at 0x7febe3d31080>"
            ]
          },
          "metadata": {
            "tags": []
          },
          "execution_count": 588
        },
        {
          "output_type": "display_data",
          "data": {
            "image/png": "[encoded data removed]",
            "text/plain": [
              "<Figure size 1080x720 with 2 Axes>"
            ]
          },
          "metadata": {
            "tags": [],
            "needs_background": "light"
          }
        }
      ]
    },
    {
      "cell_type": "code",
      "metadata": {
        "id": "R7hvqUzzxjJB",
        "colab_type": "code",
        "colab": {}
      },
      "source": [
        "X = train[['effectiveness_rating', 'number_of_times_prescribed']]\n",
        "y = train.base_score"
      ],
      "execution_count": 0,
      "outputs": []
    },
    {
      "cell_type": "markdown",
      "metadata": {
        "id": "RS_EJmnaG723",
        "colab_type": "text"
      },
      "source": [
        "# Splitting the Training Data and Imports"
      ]
    },
    {
      "cell_type": "code",
      "metadata": {
        "id": "9cQk1weUr25M",
        "colab_type": "code",
        "colab": {}
      },
      "source": [
        "from sklearn.model_selection import train_test_split, RandomizedSearchCV, GridSearchCV\n",
        "from sklearn.ensemble import RandomForestRegressor, BaggingRegressor, GradientBoostingRegressor\n",
        "from sklearn.metrics import mean_squared_error\n",
        "from sklearn.tree import DecisionTreeRegressor\n",
        "from sklearn.linear_model import LinearRegression\n",
        "import lightgbm as lgbm\n",
        "import xgboost as xgb"
      ],
      "execution_count": 0,
      "outputs": []
    },
    {
      "cell_type": "code",
      "metadata": {
        "id": "P86EHmkPxKHC",
        "colab_type": "code",
        "colab": {}
      },
      "source": [
        "X_train, X_test, y_train, y_test = train_test_split(X, y, test_size = 0.2, random_state = 101)"
      ],
      "execution_count": 0,
      "outputs": []
    },
    {
      "cell_type": "markdown",
      "metadata": {
        "id": "AGlNFMWuGwEt",
        "colab_type": "text"
      },
      "source": [
        "# Implementing using xgb.XGBRegressor()"
      ]
    },
    {
      "cell_type": "code",
      "metadata": {
        "id": "bvlrdNnruLnk",
        "colab_type": "code",
        "colab": {}
      },
      "source": [
        "model_xgbr = xgb.XGBRegressor()"
      ],
      "execution_count": 0,
      "outputs": []
    },
    {
      "cell_type": "code",
      "metadata": {
        "id": "w7PFtPZvu_8A",
        "colab_type": "code",
        "colab": {}
      },
      "source": [
        "params_xgbr = {\n",
        "    \"n_estimators\" : [int(x) for x in np.linspace(50, 500, 10)],\n",
        "    \"learning_rate\" : [0.001, 0.005, 0.01, 0.05, 0.1],\n",
        "    \"max_depth\" : [int(x) for x in np.linspace(10, 110, 11)],\n",
        "    \"min_child_weight\" : [3,5,7],\n",
        "    \"colsample_tree\" : [1,2]\n",
        "}"
      ],
      "execution_count": 0,
      "outputs": []
    },
    {
      "cell_type": "code",
      "metadata": {
        "id": "0jZx3MKv5MuG",
        "colab_type": "code",
        "colab": {}
      },
      "source": [
        "random_xgbr = RandomizedSearchCV(estimator=model_xgbr, param_distributions=params_xgbr, cv=10, verbose=3, random_state=42)"
      ],
      "execution_count": 0,
      "outputs": []
    },
    {
      "cell_type": "code",
      "metadata": {
        "id": "2ejTpT2s5suO",
        "colab_type": "code",
        "colab": {
          "base_uri": "https://localhost:8080/",
          "height": 1000
        },
        "outputId": "193b7b19-2f7b-4c90-be98-4fa444066eb3"
      },
      "source": [
        "random_xgbr.fit(X_train, y_train)"
      ],
      "execution_count": 597,
      "outputs": [
        {
          "output_type": "stream",
          "text": [
            "Fitting 10 folds for each of 10 candidates, totalling 100 fits\n",
            "[CV] n_estimators=250, min_child_weight=7, max_depth=70, learning_rate=0.1, colsample_tree=2 \n",
            "[12:52:16] WARNING: /workspace/src/objective/regression_obj.cu:152: reg:linear is now deprecated in favor of reg:squarederror.\n"
          ],
          "name": "stdout"
        },
        {
          "output_type": "stream",
          "text": [
            "[Parallel(n_jobs=1)]: Using backend SequentialBackend with 1 concurrent workers.\n"
          ],
          "name": "stderr"
        },
        {
          "output_type": "stream",
          "text": [
            "[CV]  n_estimators=250, min_child_weight=7, max_depth=70, learning_rate=0.1, colsample_tree=2, score=0.995, total=  14.0s\n",
            "[CV] n_estimators=250, min_child_weight=7, max_depth=70, learning_rate=0.1, colsample_tree=2 \n",
            "[12:52:30] WARNING: /workspace/src/objective/regression_obj.cu:152: reg:linear is now deprecated in favor of reg:squarederror.\n"
          ],
          "name": "stdout"
        },
        {
          "output_type": "stream",
          "text": [
            "[Parallel(n_jobs=1)]: Done   1 out of   1 | elapsed:   14.0s remaining:    0.0s\n"
          ],
          "name": "stderr"
        },
        {
          "output_type": "stream",
          "text": [
            "[CV]  n_estimators=250, min_child_weight=7, max_depth=70, learning_rate=0.1, colsample_tree=2, score=0.998, total=  13.8s\n",
            "[CV] n_estimators=250, min_child_weight=7, max_depth=70, learning_rate=0.1, colsample_tree=2 \n",
            "[12:52:44] WARNING: /workspace/src/objective/regression_obj.cu:152: reg:linear is now deprecated in favor of reg:squarederror.\n"
          ],
          "name": "stdout"
        },
        {
          "output_type": "stream",
          "text": [
            "[Parallel(n_jobs=1)]: Done   2 out of   2 | elapsed:   27.9s remaining:    0.0s\n"
          ],
          "name": "stderr"
        },
        {
          "output_type": "stream",
          "text": [
            "[CV]  n_estimators=250, min_child_weight=7, max_depth=70, learning_rate=0.1, colsample_tree=2, score=0.996, total=  13.5s\n",
            "[CV] n_estimators=250, min_child_weight=7, max_depth=70, learning_rate=0.1, colsample_tree=2 \n",
            "[12:52:57] WARNING: /workspace/src/objective/regression_obj.cu:152: reg:linear is now deprecated in favor of reg:squarederror.\n",
            "[CV]  n_estimators=250, min_child_weight=7, max_depth=70, learning_rate=0.1, colsample_tree=2, score=0.997, total=  13.5s\n",
            "[CV] n_estimators=250, min_child_weight=7, max_depth=70, learning_rate=0.1, colsample_tree=2 \n",
            "[12:53:11] WARNING: /workspace/src/objective/regression_obj.cu:152: reg:linear is now deprecated in favor of reg:squarederror.\n",
            "[CV]  n_estimators=250, min_child_weight=7, max_depth=70, learning_rate=0.1, colsample_tree=2, score=0.998, total=  13.6s\n",
            "[CV] n_estimators=250, min_child_weight=7, max_depth=70, learning_rate=0.1, colsample_tree=2 \n",
            "[12:53:24] WARNING: /workspace/src/objective/regression_obj.cu:152: reg:linear is now deprecated in favor of reg:squarederror.\n",
            "[CV]  n_estimators=250, min_child_weight=7, max_depth=70, learning_rate=0.1, colsample_tree=2, score=0.995, total=  13.7s\n",
            "[CV] n_estimators=250, min_child_weight=7, max_depth=70, learning_rate=0.1, colsample_tree=2 \n",
            "[12:53:38] WARNING: /workspace/src/objective/regression_obj.cu:152: reg:linear is now deprecated in favor of reg:squarederror.\n",
            "[CV]  n_estimators=250, min_child_weight=7, max_depth=70, learning_rate=0.1, colsample_tree=2, score=0.994, total=  13.5s\n",
            "[CV] n_estimators=250, min_child_weight=7, max_depth=70, learning_rate=0.1, colsample_tree=2 \n",
            "[12:53:52] WARNING: /workspace/src/objective/regression_obj.cu:152: reg:linear is now deprecated in favor of reg:squarederror.\n",
            "[CV]  n_estimators=250, min_child_weight=7, max_depth=70, learning_rate=0.1, colsample_tree=2, score=0.996, total=  13.3s\n",
            "[CV] n_estimators=250, min_child_weight=7, max_depth=70, learning_rate=0.1, colsample_tree=2 \n",
            "[12:54:05] WARNING: /workspace/src/objective/regression_obj.cu:152: reg:linear is now deprecated in favor of reg:squarederror.\n",
            "[CV]  n_estimators=250, min_child_weight=7, max_depth=70, learning_rate=0.1, colsample_tree=2, score=0.995, total=  13.8s\n",
            "[CV] n_estimators=250, min_child_weight=7, max_depth=70, learning_rate=0.1, colsample_tree=2 \n",
            "[12:54:19] WARNING: /workspace/src/objective/regression_obj.cu:152: reg:linear is now deprecated in favor of reg:squarederror.\n",
            "[CV]  n_estimators=250, min_child_weight=7, max_depth=70, learning_rate=0.1, colsample_tree=2, score=0.996, total=  13.5s\n",
            "[CV] n_estimators=50, min_child_weight=7, max_depth=70, learning_rate=0.01, colsample_tree=1 \n",
            "[12:54:32] WARNING: /workspace/src/objective/regression_obj.cu:152: reg:linear is now deprecated in favor of reg:squarederror.\n",
            "[CV]  n_estimators=50, min_child_weight=7, max_depth=70, learning_rate=0.01, colsample_tree=1, score=-4.895, total=   1.5s\n",
            "[CV] n_estimators=50, min_child_weight=7, max_depth=70, learning_rate=0.01, colsample_tree=1 \n",
            "[12:54:34] WARNING: /workspace/src/objective/regression_obj.cu:152: reg:linear is now deprecated in favor of reg:squarederror.\n",
            "[CV]  n_estimators=50, min_child_weight=7, max_depth=70, learning_rate=0.01, colsample_tree=1, score=-4.530, total=   1.5s\n",
            "[CV] n_estimators=50, min_child_weight=7, max_depth=70, learning_rate=0.01, colsample_tree=1 \n",
            "[12:54:35] WARNING: /workspace/src/objective/regression_obj.cu:152: reg:linear is now deprecated in favor of reg:squarederror.\n",
            "[CV]  n_estimators=50, min_child_weight=7, max_depth=70, learning_rate=0.01, colsample_tree=1, score=-5.239, total=   1.5s\n",
            "[CV] n_estimators=50, min_child_weight=7, max_depth=70, learning_rate=0.01, colsample_tree=1 \n",
            "[12:54:37] WARNING: /workspace/src/objective/regression_obj.cu:152: reg:linear is now deprecated in favor of reg:squarederror.\n",
            "[CV]  n_estimators=50, min_child_weight=7, max_depth=70, learning_rate=0.01, colsample_tree=1, score=-5.012, total=   1.5s\n",
            "[CV] n_estimators=50, min_child_weight=7, max_depth=70, learning_rate=0.01, colsample_tree=1 \n",
            "[12:54:38] WARNING: /workspace/src/objective/regression_obj.cu:152: reg:linear is now deprecated in favor of reg:squarederror.\n",
            "[CV]  n_estimators=50, min_child_weight=7, max_depth=70, learning_rate=0.01, colsample_tree=1, score=-4.658, total=   1.5s\n",
            "[CV] n_estimators=50, min_child_weight=7, max_depth=70, learning_rate=0.01, colsample_tree=1 \n",
            "[12:54:40] WARNING: /workspace/src/objective/regression_obj.cu:152: reg:linear is now deprecated in favor of reg:squarederror.\n",
            "[CV]  n_estimators=50, min_child_weight=7, max_depth=70, learning_rate=0.01, colsample_tree=1, score=-4.754, total=   1.5s\n",
            "[CV] n_estimators=50, min_child_weight=7, max_depth=70, learning_rate=0.01, colsample_tree=1 \n",
            "[12:54:41] WARNING: /workspace/src/objective/regression_obj.cu:152: reg:linear is now deprecated in favor of reg:squarederror.\n",
            "[CV]  n_estimators=50, min_child_weight=7, max_depth=70, learning_rate=0.01, colsample_tree=1, score=-5.393, total=   1.5s\n",
            "[CV] n_estimators=50, min_child_weight=7, max_depth=70, learning_rate=0.01, colsample_tree=1 \n",
            "[12:54:43] WARNING: /workspace/src/objective/regression_obj.cu:152: reg:linear is now deprecated in favor of reg:squarederror.\n",
            "[CV]  n_estimators=50, min_child_weight=7, max_depth=70, learning_rate=0.01, colsample_tree=1, score=-5.047, total=   1.5s\n",
            "[CV] n_estimators=50, min_child_weight=7, max_depth=70, learning_rate=0.01, colsample_tree=1 \n",
            "[12:54:44] WARNING: /workspace/src/objective/regression_obj.cu:152: reg:linear is now deprecated in favor of reg:squarederror.\n",
            "[CV]  n_estimators=50, min_child_weight=7, max_depth=70, learning_rate=0.01, colsample_tree=1, score=-5.405, total=   1.5s\n",
            "[CV] n_estimators=50, min_child_weight=7, max_depth=70, learning_rate=0.01, colsample_tree=1 \n",
            "[12:54:46] WARNING: /workspace/src/objective/regression_obj.cu:152: reg:linear is now deprecated in favor of reg:squarederror.\n",
            "[CV]  n_estimators=50, min_child_weight=7, max_depth=70, learning_rate=0.01, colsample_tree=1, score=-4.919, total=   1.5s\n",
            "[CV] n_estimators=250, min_child_weight=3, max_depth=110, learning_rate=0.05, colsample_tree=1 \n",
            "[12:54:47] WARNING: /workspace/src/objective/regression_obj.cu:152: reg:linear is now deprecated in favor of reg:squarederror.\n",
            "[CV]  n_estimators=250, min_child_weight=3, max_depth=110, learning_rate=0.05, colsample_tree=1, score=0.993, total=  12.0s\n",
            "[CV] n_estimators=250, min_child_weight=3, max_depth=110, learning_rate=0.05, colsample_tree=1 \n",
            "[12:54:59] WARNING: /workspace/src/objective/regression_obj.cu:152: reg:linear is now deprecated in favor of reg:squarederror.\n",
            "[CV]  n_estimators=250, min_child_weight=3, max_depth=110, learning_rate=0.05, colsample_tree=1, score=0.997, total=  12.0s\n",
            "[CV] n_estimators=250, min_child_weight=3, max_depth=110, learning_rate=0.05, colsample_tree=1 \n",
            "[12:55:11] WARNING: /workspace/src/objective/regression_obj.cu:152: reg:linear is now deprecated in favor of reg:squarederror.\n",
            "[CV]  n_estimators=250, min_child_weight=3, max_depth=110, learning_rate=0.05, colsample_tree=1, score=0.994, total=  12.0s\n",
            "[CV] n_estimators=250, min_child_weight=3, max_depth=110, learning_rate=0.05, colsample_tree=1 \n",
            "[12:55:23] WARNING: /workspace/src/objective/regression_obj.cu:152: reg:linear is now deprecated in favor of reg:squarederror.\n",
            "[CV]  n_estimators=250, min_child_weight=3, max_depth=110, learning_rate=0.05, colsample_tree=1, score=0.994, total=  12.2s\n",
            "[CV] n_estimators=250, min_child_weight=3, max_depth=110, learning_rate=0.05, colsample_tree=1 \n",
            "[12:55:35] WARNING: /workspace/src/objective/regression_obj.cu:152: reg:linear is now deprecated in favor of reg:squarederror.\n",
            "[CV]  n_estimators=250, min_child_weight=3, max_depth=110, learning_rate=0.05, colsample_tree=1, score=0.996, total=  12.0s\n",
            "[CV] n_estimators=250, min_child_weight=3, max_depth=110, learning_rate=0.05, colsample_tree=1 \n",
            "[12:55:47] WARNING: /workspace/src/objective/regression_obj.cu:152: reg:linear is now deprecated in favor of reg:squarederror.\n",
            "[CV]  n_estimators=250, min_child_weight=3, max_depth=110, learning_rate=0.05, colsample_tree=1, score=0.993, total=  12.0s\n",
            "[CV] n_estimators=250, min_child_weight=3, max_depth=110, learning_rate=0.05, colsample_tree=1 \n",
            "[12:55:59] WARNING: /workspace/src/objective/regression_obj.cu:152: reg:linear is now deprecated in favor of reg:squarederror.\n",
            "[CV]  n_estimators=250, min_child_weight=3, max_depth=110, learning_rate=0.05, colsample_tree=1, score=0.992, total=  11.8s\n",
            "[CV] n_estimators=250, min_child_weight=3, max_depth=110, learning_rate=0.05, colsample_tree=1 \n",
            "[12:56:11] WARNING: /workspace/src/objective/regression_obj.cu:152: reg:linear is now deprecated in favor of reg:squarederror.\n",
            "[CV]  n_estimators=250, min_child_weight=3, max_depth=110, learning_rate=0.05, colsample_tree=1, score=0.994, total=  12.0s\n",
            "[CV] n_estimators=250, min_child_weight=3, max_depth=110, learning_rate=0.05, colsample_tree=1 \n",
            "[12:56:23] WARNING: /workspace/src/objective/regression_obj.cu:152: reg:linear is now deprecated in favor of reg:squarederror.\n",
            "[CV]  n_estimators=250, min_child_weight=3, max_depth=110, learning_rate=0.05, colsample_tree=1, score=0.993, total=  12.1s\n",
            "[CV] n_estimators=250, min_child_weight=3, max_depth=110, learning_rate=0.05, colsample_tree=1 \n",
            "[12:56:35] WARNING: /workspace/src/objective/regression_obj.cu:152: reg:linear is now deprecated in favor of reg:squarederror.\n",
            "[CV]  n_estimators=250, min_child_weight=3, max_depth=110, learning_rate=0.05, colsample_tree=1, score=0.994, total=  12.3s\n",
            "[CV] n_estimators=50, min_child_weight=7, max_depth=50, learning_rate=0.05, colsample_tree=1 \n",
            "[12:56:47] WARNING: /workspace/src/objective/regression_obj.cu:152: reg:linear is now deprecated in favor of reg:squarederror.\n",
            "[CV]  n_estimators=50, min_child_weight=7, max_depth=50, learning_rate=0.05, colsample_tree=1, score=0.877, total=   1.7s\n",
            "[CV] n_estimators=50, min_child_weight=7, max_depth=50, learning_rate=0.05, colsample_tree=1 \n",
            "[12:56:49] WARNING: /workspace/src/objective/regression_obj.cu:152: reg:linear is now deprecated in favor of reg:squarederror.\n",
            "[CV]  n_estimators=50, min_child_weight=7, max_depth=50, learning_rate=0.05, colsample_tree=1, score=0.886, total=   1.8s\n",
            "[CV] n_estimators=50, min_child_weight=7, max_depth=50, learning_rate=0.05, colsample_tree=1 \n",
            "[12:56:51] WARNING: /workspace/src/objective/regression_obj.cu:152: reg:linear is now deprecated in favor of reg:squarederror.\n",
            "[CV]  n_estimators=50, min_child_weight=7, max_depth=50, learning_rate=0.05, colsample_tree=1, score=0.871, total=   1.7s\n",
            "[CV] n_estimators=50, min_child_weight=7, max_depth=50, learning_rate=0.05, colsample_tree=1 \n",
            "[12:56:53] WARNING: /workspace/src/objective/regression_obj.cu:152: reg:linear is now deprecated in favor of reg:squarederror.\n",
            "[CV]  n_estimators=50, min_child_weight=7, max_depth=50, learning_rate=0.05, colsample_tree=1, score=0.876, total=   1.8s\n",
            "[CV] n_estimators=50, min_child_weight=7, max_depth=50, learning_rate=0.05, colsample_tree=1 \n",
            "[12:56:54] WARNING: /workspace/src/objective/regression_obj.cu:152: reg:linear is now deprecated in favor of reg:squarederror.\n",
            "[CV]  n_estimators=50, min_child_weight=7, max_depth=50, learning_rate=0.05, colsample_tree=1, score=0.882, total=   1.7s\n",
            "[CV] n_estimators=50, min_child_weight=7, max_depth=50, learning_rate=0.05, colsample_tree=1 \n",
            "[12:56:56] WARNING: /workspace/src/objective/regression_obj.cu:152: reg:linear is now deprecated in favor of reg:squarederror.\n",
            "[CV]  n_estimators=50, min_child_weight=7, max_depth=50, learning_rate=0.05, colsample_tree=1, score=0.881, total=   1.8s\n",
            "[CV] n_estimators=50, min_child_weight=7, max_depth=50, learning_rate=0.05, colsample_tree=1 \n",
            "[12:56:58] WARNING: /workspace/src/objective/regression_obj.cu:152: reg:linear is now deprecated in favor of reg:squarederror.\n",
            "[CV]  n_estimators=50, min_child_weight=7, max_depth=50, learning_rate=0.05, colsample_tree=1, score=0.867, total=   1.7s\n",
            "[CV] n_estimators=50, min_child_weight=7, max_depth=50, learning_rate=0.05, colsample_tree=1 \n",
            "[12:57:00] WARNING: /workspace/src/objective/regression_obj.cu:152: reg:linear is now deprecated in favor of reg:squarederror.\n",
            "[CV]  n_estimators=50, min_child_weight=7, max_depth=50, learning_rate=0.05, colsample_tree=1, score=0.880, total=   1.7s\n",
            "[CV] n_estimators=50, min_child_weight=7, max_depth=50, learning_rate=0.05, colsample_tree=1 \n",
            "[12:57:01] WARNING: /workspace/src/objective/regression_obj.cu:152: reg:linear is now deprecated in favor of reg:squarederror.\n",
            "[CV]  n_estimators=50, min_child_weight=7, max_depth=50, learning_rate=0.05, colsample_tree=1, score=0.870, total=   1.8s\n",
            "[CV] n_estimators=50, min_child_weight=7, max_depth=50, learning_rate=0.05, colsample_tree=1 \n",
            "[12:57:03] WARNING: /workspace/src/objective/regression_obj.cu:152: reg:linear is now deprecated in favor of reg:squarederror.\n",
            "[CV]  n_estimators=50, min_child_weight=7, max_depth=50, learning_rate=0.05, colsample_tree=1, score=0.874, total=   1.8s\n",
            "[CV] n_estimators=300, min_child_weight=5, max_depth=40, learning_rate=0.05, colsample_tree=1 \n",
            "[12:57:05] WARNING: /workspace/src/objective/regression_obj.cu:152: reg:linear is now deprecated in favor of reg:squarederror.\n",
            "[CV]  n_estimators=300, min_child_weight=5, max_depth=40, learning_rate=0.05, colsample_tree=1, score=0.995, total=  11.7s\n",
            "[CV] n_estimators=300, min_child_weight=5, max_depth=40, learning_rate=0.05, colsample_tree=1 \n",
            "[12:57:17] WARNING: /workspace/src/objective/regression_obj.cu:152: reg:linear is now deprecated in favor of reg:squarederror.\n",
            "[CV]  n_estimators=300, min_child_weight=5, max_depth=40, learning_rate=0.05, colsample_tree=1, score=0.997, total=  11.8s\n",
            "[CV] n_estimators=300, min_child_weight=5, max_depth=40, learning_rate=0.05, colsample_tree=1 \n",
            "[12:57:28] WARNING: /workspace/src/objective/regression_obj.cu:152: reg:linear is now deprecated in favor of reg:squarederror.\n",
            "[CV]  n_estimators=300, min_child_weight=5, max_depth=40, learning_rate=0.05, colsample_tree=1, score=0.995, total=  11.7s\n",
            "[CV] n_estimators=300, min_child_weight=5, max_depth=40, learning_rate=0.05, colsample_tree=1 \n",
            "[12:57:40] WARNING: /workspace/src/objective/regression_obj.cu:152: reg:linear is now deprecated in favor of reg:squarederror.\n",
            "[CV]  n_estimators=300, min_child_weight=5, max_depth=40, learning_rate=0.05, colsample_tree=1, score=0.995, total=  11.5s\n",
            "[CV] n_estimators=300, min_child_weight=5, max_depth=40, learning_rate=0.05, colsample_tree=1 \n",
            "[12:57:52] WARNING: /workspace/src/objective/regression_obj.cu:152: reg:linear is now deprecated in favor of reg:squarederror.\n",
            "[CV]  n_estimators=300, min_child_weight=5, max_depth=40, learning_rate=0.05, colsample_tree=1, score=0.997, total=  11.9s\n",
            "[CV] n_estimators=300, min_child_weight=5, max_depth=40, learning_rate=0.05, colsample_tree=1 \n",
            "[12:58:04] WARNING: /workspace/src/objective/regression_obj.cu:152: reg:linear is now deprecated in favor of reg:squarederror.\n",
            "[CV]  n_estimators=300, min_child_weight=5, max_depth=40, learning_rate=0.05, colsample_tree=1, score=0.994, total=  11.8s\n",
            "[CV] n_estimators=300, min_child_weight=5, max_depth=40, learning_rate=0.05, colsample_tree=1 \n",
            "[12:58:15] WARNING: /workspace/src/objective/regression_obj.cu:152: reg:linear is now deprecated in favor of reg:squarederror.\n",
            "[CV]  n_estimators=300, min_child_weight=5, max_depth=40, learning_rate=0.05, colsample_tree=1, score=0.993, total=  11.9s\n",
            "[CV] n_estimators=300, min_child_weight=5, max_depth=40, learning_rate=0.05, colsample_tree=1 \n",
            "[12:58:27] WARNING: /workspace/src/objective/regression_obj.cu:152: reg:linear is now deprecated in favor of reg:squarederror.\n",
            "[CV]  n_estimators=300, min_child_weight=5, max_depth=40, learning_rate=0.05, colsample_tree=1, score=0.994, total=  11.9s\n",
            "[CV] n_estimators=300, min_child_weight=5, max_depth=40, learning_rate=0.05, colsample_tree=1 \n",
            "[12:58:39] WARNING: /workspace/src/objective/regression_obj.cu:152: reg:linear is now deprecated in favor of reg:squarederror.\n",
            "[CV]  n_estimators=300, min_child_weight=5, max_depth=40, learning_rate=0.05, colsample_tree=1, score=0.994, total=  11.5s\n",
            "[CV] n_estimators=300, min_child_weight=5, max_depth=40, learning_rate=0.05, colsample_tree=1 \n",
            "[12:58:51] WARNING: /workspace/src/objective/regression_obj.cu:152: reg:linear is now deprecated in favor of reg:squarederror.\n",
            "[CV]  n_estimators=300, min_child_weight=5, max_depth=40, learning_rate=0.05, colsample_tree=1, score=0.994, total=  11.6s\n",
            "[CV] n_estimators=150, min_child_weight=3, max_depth=50, learning_rate=0.1, colsample_tree=2 \n",
            "[12:59:02] WARNING: /workspace/src/objective/regression_obj.cu:152: reg:linear is now deprecated in favor of reg:squarederror.\n",
            "[CV]  n_estimators=150, min_child_weight=3, max_depth=50, learning_rate=0.1, colsample_tree=2, score=0.994, total=   6.6s\n",
            "[CV] n_estimators=150, min_child_weight=3, max_depth=50, learning_rate=0.1, colsample_tree=2 \n",
            "[12:59:09] WARNING: /workspace/src/objective/regression_obj.cu:152: reg:linear is now deprecated in favor of reg:squarederror.\n",
            "[CV]  n_estimators=150, min_child_weight=3, max_depth=50, learning_rate=0.1, colsample_tree=2, score=0.997, total=   6.5s\n",
            "[CV] n_estimators=150, min_child_weight=3, max_depth=50, learning_rate=0.1, colsample_tree=2 \n",
            "[12:59:15] WARNING: /workspace/src/objective/regression_obj.cu:152: reg:linear is now deprecated in favor of reg:squarederror.\n",
            "[CV]  n_estimators=150, min_child_weight=3, max_depth=50, learning_rate=0.1, colsample_tree=2, score=0.994, total=   6.6s\n",
            "[CV] n_estimators=150, min_child_weight=3, max_depth=50, learning_rate=0.1, colsample_tree=2 \n",
            "[12:59:22] WARNING: /workspace/src/objective/regression_obj.cu:152: reg:linear is now deprecated in favor of reg:squarederror.\n",
            "[CV]  n_estimators=150, min_child_weight=3, max_depth=50, learning_rate=0.1, colsample_tree=2, score=0.994, total=   6.6s\n",
            "[CV] n_estimators=150, min_child_weight=3, max_depth=50, learning_rate=0.1, colsample_tree=2 \n",
            "[12:59:29] WARNING: /workspace/src/objective/regression_obj.cu:152: reg:linear is now deprecated in favor of reg:squarederror.\n",
            "[CV]  n_estimators=150, min_child_weight=3, max_depth=50, learning_rate=0.1, colsample_tree=2, score=0.996, total=   6.7s\n",
            "[CV] n_estimators=150, min_child_weight=3, max_depth=50, learning_rate=0.1, colsample_tree=2 \n",
            "[12:59:35] WARNING: /workspace/src/objective/regression_obj.cu:152: reg:linear is now deprecated in favor of reg:squarederror.\n",
            "[CV]  n_estimators=150, min_child_weight=3, max_depth=50, learning_rate=0.1, colsample_tree=2, score=0.994, total=   6.6s\n",
            "[CV] n_estimators=150, min_child_weight=3, max_depth=50, learning_rate=0.1, colsample_tree=2 \n",
            "[12:59:42] WARNING: /workspace/src/objective/regression_obj.cu:152: reg:linear is now deprecated in favor of reg:squarederror.\n",
            "[CV]  n_estimators=150, min_child_weight=3, max_depth=50, learning_rate=0.1, colsample_tree=2, score=0.992, total=   6.6s\n",
            "[CV] n_estimators=150, min_child_weight=3, max_depth=50, learning_rate=0.1, colsample_tree=2 \n",
            "[12:59:49] WARNING: /workspace/src/objective/regression_obj.cu:152: reg:linear is now deprecated in favor of reg:squarederror.\n",
            "[CV]  n_estimators=150, min_child_weight=3, max_depth=50, learning_rate=0.1, colsample_tree=2, score=0.994, total=   6.6s\n",
            "[CV] n_estimators=150, min_child_weight=3, max_depth=50, learning_rate=0.1, colsample_tree=2 \n",
            "[12:59:55] WARNING: /workspace/src/objective/regression_obj.cu:152: reg:linear is now deprecated in favor of reg:squarederror.\n",
            "[CV]  n_estimators=150, min_child_weight=3, max_depth=50, learning_rate=0.1, colsample_tree=2, score=0.993, total=   6.6s\n",
            "[CV] n_estimators=150, min_child_weight=3, max_depth=50, learning_rate=0.1, colsample_tree=2 \n",
            "[13:00:02] WARNING: /workspace/src/objective/regression_obj.cu:152: reg:linear is now deprecated in favor of reg:squarederror.\n",
            "[CV]  n_estimators=150, min_child_weight=3, max_depth=50, learning_rate=0.1, colsample_tree=2, score=0.994, total=   6.6s\n",
            "[CV] n_estimators=450, min_child_weight=5, max_depth=110, learning_rate=0.1, colsample_tree=1 \n",
            "[13:00:08] WARNING: /workspace/src/objective/regression_obj.cu:152: reg:linear is now deprecated in favor of reg:squarederror.\n",
            "[CV]  n_estimators=450, min_child_weight=5, max_depth=110, learning_rate=0.1, colsample_tree=1, score=0.996, total=  22.8s\n",
            "[CV] n_estimators=450, min_child_weight=5, max_depth=110, learning_rate=0.1, colsample_tree=1 \n",
            "[13:00:31] WARNING: /workspace/src/objective/regression_obj.cu:152: reg:linear is now deprecated in favor of reg:squarederror.\n",
            "[CV]  n_estimators=450, min_child_weight=5, max_depth=110, learning_rate=0.1, colsample_tree=1, score=0.997, total=  22.6s\n",
            "[CV] n_estimators=450, min_child_weight=5, max_depth=110, learning_rate=0.1, colsample_tree=1 \n",
            "[13:00:54] WARNING: /workspace/src/objective/regression_obj.cu:152: reg:linear is now deprecated in favor of reg:squarederror.\n",
            "[CV]  n_estimators=450, min_child_weight=5, max_depth=110, learning_rate=0.1, colsample_tree=1, score=0.995, total=  22.7s\n",
            "[CV] n_estimators=450, min_child_weight=5, max_depth=110, learning_rate=0.1, colsample_tree=1 \n",
            "[13:01:17] WARNING: /workspace/src/objective/regression_obj.cu:152: reg:linear is now deprecated in favor of reg:squarederror.\n",
            "[CV]  n_estimators=450, min_child_weight=5, max_depth=110, learning_rate=0.1, colsample_tree=1, score=0.996, total=  23.4s\n",
            "[CV] n_estimators=450, min_child_weight=5, max_depth=110, learning_rate=0.1, colsample_tree=1 \n",
            "[13:01:40] WARNING: /workspace/src/objective/regression_obj.cu:152: reg:linear is now deprecated in favor of reg:squarederror.\n",
            "[CV]  n_estimators=450, min_child_weight=5, max_depth=110, learning_rate=0.1, colsample_tree=1, score=0.997, total=  22.6s\n",
            "[CV] n_estimators=450, min_child_weight=5, max_depth=110, learning_rate=0.1, colsample_tree=1 \n",
            "[13:02:03] WARNING: /workspace/src/objective/regression_obj.cu:152: reg:linear is now deprecated in favor of reg:squarederror.\n",
            "[CV]  n_estimators=450, min_child_weight=5, max_depth=110, learning_rate=0.1, colsample_tree=1, score=0.994, total=  22.9s\n",
            "[CV] n_estimators=450, min_child_weight=5, max_depth=110, learning_rate=0.1, colsample_tree=1 \n",
            "[13:02:25] WARNING: /workspace/src/objective/regression_obj.cu:152: reg:linear is now deprecated in favor of reg:squarederror.\n",
            "[CV]  n_estimators=450, min_child_weight=5, max_depth=110, learning_rate=0.1, colsample_tree=1, score=0.994, total=  22.4s\n",
            "[CV] n_estimators=450, min_child_weight=5, max_depth=110, learning_rate=0.1, colsample_tree=1 \n",
            "[13:02:48] WARNING: /workspace/src/objective/regression_obj.cu:152: reg:linear is now deprecated in favor of reg:squarederror.\n",
            "[CV]  n_estimators=450, min_child_weight=5, max_depth=110, learning_rate=0.1, colsample_tree=1, score=0.995, total=  21.8s\n",
            "[CV] n_estimators=450, min_child_weight=5, max_depth=110, learning_rate=0.1, colsample_tree=1 \n",
            "[13:03:10] WARNING: /workspace/src/objective/regression_obj.cu:152: reg:linear is now deprecated in favor of reg:squarederror.\n",
            "[CV]  n_estimators=450, min_child_weight=5, max_depth=110, learning_rate=0.1, colsample_tree=1, score=0.994, total=  23.1s\n",
            "[CV] n_estimators=450, min_child_weight=5, max_depth=110, learning_rate=0.1, colsample_tree=1 \n",
            "[13:03:33] WARNING: /workspace/src/objective/regression_obj.cu:152: reg:linear is now deprecated in favor of reg:squarederror.\n",
            "[CV]  n_estimators=450, min_child_weight=5, max_depth=110, learning_rate=0.1, colsample_tree=1, score=0.994, total=  22.6s\n",
            "[CV] n_estimators=500, min_child_weight=3, max_depth=70, learning_rate=0.005, colsample_tree=2 \n",
            "[13:03:55] WARNING: /workspace/src/objective/regression_obj.cu:152: reg:linear is now deprecated in favor of reg:squarederror.\n",
            "[CV]  n_estimators=500, min_child_weight=3, max_depth=70, learning_rate=0.005, colsample_tree=2, score=0.867, total=  18.1s\n",
            "[CV] n_estimators=500, min_child_weight=3, max_depth=70, learning_rate=0.005, colsample_tree=2 \n",
            "[13:04:14] WARNING: /workspace/src/objective/regression_obj.cu:152: reg:linear is now deprecated in favor of reg:squarederror.\n",
            "[CV]  n_estimators=500, min_child_weight=3, max_depth=70, learning_rate=0.005, colsample_tree=2, score=0.878, total=  18.0s\n",
            "[CV] n_estimators=500, min_child_weight=3, max_depth=70, learning_rate=0.005, colsample_tree=2 \n",
            "[13:04:32] WARNING: /workspace/src/objective/regression_obj.cu:152: reg:linear is now deprecated in favor of reg:squarederror.\n",
            "[CV]  n_estimators=500, min_child_weight=3, max_depth=70, learning_rate=0.005, colsample_tree=2, score=0.864, total=  18.5s\n",
            "[CV] n_estimators=500, min_child_weight=3, max_depth=70, learning_rate=0.005, colsample_tree=2 \n",
            "[13:04:50] WARNING: /workspace/src/objective/regression_obj.cu:152: reg:linear is now deprecated in favor of reg:squarederror.\n",
            "[CV]  n_estimators=500, min_child_weight=3, max_depth=70, learning_rate=0.005, colsample_tree=2, score=0.866, total=  18.4s\n",
            "[CV] n_estimators=500, min_child_weight=3, max_depth=70, learning_rate=0.005, colsample_tree=2 \n",
            "[13:05:08] WARNING: /workspace/src/objective/regression_obj.cu:152: reg:linear is now deprecated in favor of reg:squarederror.\n",
            "[CV]  n_estimators=500, min_child_weight=3, max_depth=70, learning_rate=0.005, colsample_tree=2, score=0.875, total=  18.2s\n",
            "[CV] n_estimators=500, min_child_weight=3, max_depth=70, learning_rate=0.005, colsample_tree=2 \n",
            "[13:05:27] WARNING: /workspace/src/objective/regression_obj.cu:152: reg:linear is now deprecated in favor of reg:squarederror.\n",
            "[CV]  n_estimators=500, min_child_weight=3, max_depth=70, learning_rate=0.005, colsample_tree=2, score=0.873, total=  18.5s\n",
            "[CV] n_estimators=500, min_child_weight=3, max_depth=70, learning_rate=0.005, colsample_tree=2 \n",
            "[13:05:45] WARNING: /workspace/src/objective/regression_obj.cu:152: reg:linear is now deprecated in favor of reg:squarederror.\n",
            "[CV]  n_estimators=500, min_child_weight=3, max_depth=70, learning_rate=0.005, colsample_tree=2, score=0.857, total=  18.2s\n",
            "[CV] n_estimators=500, min_child_weight=3, max_depth=70, learning_rate=0.005, colsample_tree=2 \n",
            "[13:06:03] WARNING: /workspace/src/objective/regression_obj.cu:152: reg:linear is now deprecated in favor of reg:squarederror.\n",
            "[CV]  n_estimators=500, min_child_weight=3, max_depth=70, learning_rate=0.005, colsample_tree=2, score=0.869, total=  18.3s\n",
            "[CV] n_estimators=500, min_child_weight=3, max_depth=70, learning_rate=0.005, colsample_tree=2 \n",
            "[13:06:22] WARNING: /workspace/src/objective/regression_obj.cu:152: reg:linear is now deprecated in favor of reg:squarederror.\n",
            "[CV]  n_estimators=500, min_child_weight=3, max_depth=70, learning_rate=0.005, colsample_tree=2, score=0.860, total=  18.5s\n",
            "[CV] n_estimators=500, min_child_weight=3, max_depth=70, learning_rate=0.005, colsample_tree=2 \n",
            "[13:06:40] WARNING: /workspace/src/objective/regression_obj.cu:152: reg:linear is now deprecated in favor of reg:squarederror.\n",
            "[CV]  n_estimators=500, min_child_weight=3, max_depth=70, learning_rate=0.005, colsample_tree=2, score=0.864, total=  18.1s\n",
            "[CV] n_estimators=350, min_child_weight=5, max_depth=50, learning_rate=0.005, colsample_tree=1 \n",
            "[13:06:58] WARNING: /workspace/src/objective/regression_obj.cu:152: reg:linear is now deprecated in favor of reg:squarederror.\n",
            "[CV]  n_estimators=350, min_child_weight=5, max_depth=50, learning_rate=0.005, colsample_tree=1, score=0.473, total=  11.3s\n",
            "[CV] n_estimators=350, min_child_weight=5, max_depth=50, learning_rate=0.005, colsample_tree=1 \n",
            "[13:07:10] WARNING: /workspace/src/objective/regression_obj.cu:152: reg:linear is now deprecated in favor of reg:squarederror.\n",
            "[CV]  n_estimators=350, min_child_weight=5, max_depth=50, learning_rate=0.005, colsample_tree=1, score=0.508, total=  11.4s\n",
            "[CV] n_estimators=350, min_child_weight=5, max_depth=50, learning_rate=0.005, colsample_tree=1 \n",
            "[13:07:21] WARNING: /workspace/src/objective/regression_obj.cu:152: reg:linear is now deprecated in favor of reg:squarederror.\n",
            "[CV]  n_estimators=350, min_child_weight=5, max_depth=50, learning_rate=0.005, colsample_tree=1, score=0.449, total=  11.4s\n",
            "[CV] n_estimators=350, min_child_weight=5, max_depth=50, learning_rate=0.005, colsample_tree=1 \n",
            "[13:07:32] WARNING: /workspace/src/objective/regression_obj.cu:152: reg:linear is now deprecated in favor of reg:squarederror.\n",
            "[CV]  n_estimators=350, min_child_weight=5, max_depth=50, learning_rate=0.005, colsample_tree=1, score=0.464, total=  11.4s\n",
            "[CV] n_estimators=350, min_child_weight=5, max_depth=50, learning_rate=0.005, colsample_tree=1 \n",
            "[13:07:44] WARNING: /workspace/src/objective/regression_obj.cu:152: reg:linear is now deprecated in favor of reg:squarederror.\n",
            "[CV]  n_estimators=350, min_child_weight=5, max_depth=50, learning_rate=0.005, colsample_tree=1, score=0.496, total=  11.3s\n",
            "[CV] n_estimators=350, min_child_weight=5, max_depth=50, learning_rate=0.005, colsample_tree=1 \n",
            "[13:07:55] WARNING: /workspace/src/objective/regression_obj.cu:152: reg:linear is now deprecated in favor of reg:squarederror.\n",
            "[CV]  n_estimators=350, min_child_weight=5, max_depth=50, learning_rate=0.005, colsample_tree=1, score=0.490, total=  11.5s\n",
            "[CV] n_estimators=350, min_child_weight=5, max_depth=50, learning_rate=0.005, colsample_tree=1 \n",
            "[13:08:07] WARNING: /workspace/src/objective/regression_obj.cu:152: reg:linear is now deprecated in favor of reg:squarederror.\n",
            "[CV]  n_estimators=350, min_child_weight=5, max_depth=50, learning_rate=0.005, colsample_tree=1, score=0.434, total=  11.3s\n",
            "[CV] n_estimators=350, min_child_weight=5, max_depth=50, learning_rate=0.005, colsample_tree=1 \n",
            "[13:08:18] WARNING: /workspace/src/objective/regression_obj.cu:152: reg:linear is now deprecated in favor of reg:squarederror.\n",
            "[CV]  n_estimators=350, min_child_weight=5, max_depth=50, learning_rate=0.005, colsample_tree=1, score=0.469, total=  11.3s\n",
            "[CV] n_estimators=350, min_child_weight=5, max_depth=50, learning_rate=0.005, colsample_tree=1 \n",
            "[13:08:29] WARNING: /workspace/src/objective/regression_obj.cu:152: reg:linear is now deprecated in favor of reg:squarederror.\n",
            "[CV]  n_estimators=350, min_child_weight=5, max_depth=50, learning_rate=0.005, colsample_tree=1, score=0.436, total=  11.5s\n",
            "[CV] n_estimators=350, min_child_weight=5, max_depth=50, learning_rate=0.005, colsample_tree=1 \n",
            "[13:08:41] WARNING: /workspace/src/objective/regression_obj.cu:152: reg:linear is now deprecated in favor of reg:squarederror.\n",
            "[CV]  n_estimators=350, min_child_weight=5, max_depth=50, learning_rate=0.005, colsample_tree=1, score=0.470, total=  11.4s\n",
            "[CV] n_estimators=450, min_child_weight=3, max_depth=90, learning_rate=0.05, colsample_tree=1 \n",
            "[13:08:52] WARNING: /workspace/src/objective/regression_obj.cu:152: reg:linear is now deprecated in favor of reg:squarederror.\n",
            "[CV]  n_estimators=450, min_child_weight=3, max_depth=90, learning_rate=0.05, colsample_tree=1, score=0.993, total=  22.1s\n",
            "[CV] n_estimators=450, min_child_weight=3, max_depth=90, learning_rate=0.05, colsample_tree=1 \n",
            "[13:09:14] WARNING: /workspace/src/objective/regression_obj.cu:152: reg:linear is now deprecated in favor of reg:squarederror.\n",
            "[CV]  n_estimators=450, min_child_weight=3, max_depth=90, learning_rate=0.05, colsample_tree=1, score=0.997, total=  23.4s\n",
            "[CV] n_estimators=450, min_child_weight=3, max_depth=90, learning_rate=0.05, colsample_tree=1 \n",
            "[13:09:38] WARNING: /workspace/src/objective/regression_obj.cu:152: reg:linear is now deprecated in favor of reg:squarederror.\n",
            "[CV]  n_estimators=450, min_child_weight=3, max_depth=90, learning_rate=0.05, colsample_tree=1, score=0.994, total=  23.7s\n",
            "[CV] n_estimators=450, min_child_weight=3, max_depth=90, learning_rate=0.05, colsample_tree=1 \n",
            "[13:10:01] WARNING: /workspace/src/objective/regression_obj.cu:152: reg:linear is now deprecated in favor of reg:squarederror.\n",
            "[CV]  n_estimators=450, min_child_weight=3, max_depth=90, learning_rate=0.05, colsample_tree=1, score=0.994, total=  23.8s\n",
            "[CV] n_estimators=450, min_child_weight=3, max_depth=90, learning_rate=0.05, colsample_tree=1 \n",
            "[13:10:25] WARNING: /workspace/src/objective/regression_obj.cu:152: reg:linear is now deprecated in favor of reg:squarederror.\n",
            "[CV]  n_estimators=450, min_child_weight=3, max_depth=90, learning_rate=0.05, colsample_tree=1, score=0.997, total=  22.5s\n",
            "[CV] n_estimators=450, min_child_weight=3, max_depth=90, learning_rate=0.05, colsample_tree=1 \n",
            "[13:10:48] WARNING: /workspace/src/objective/regression_obj.cu:152: reg:linear is now deprecated in favor of reg:squarederror.\n",
            "[CV]  n_estimators=450, min_child_weight=3, max_depth=90, learning_rate=0.05, colsample_tree=1, score=0.993, total=  22.9s\n",
            "[CV] n_estimators=450, min_child_weight=3, max_depth=90, learning_rate=0.05, colsample_tree=1 \n",
            "[13:11:10] WARNING: /workspace/src/objective/regression_obj.cu:152: reg:linear is now deprecated in favor of reg:squarederror.\n",
            "[CV]  n_estimators=450, min_child_weight=3, max_depth=90, learning_rate=0.05, colsample_tree=1, score=0.993, total=  22.6s\n",
            "[CV] n_estimators=450, min_child_weight=3, max_depth=90, learning_rate=0.05, colsample_tree=1 \n",
            "[13:11:33] WARNING: /workspace/src/objective/regression_obj.cu:152: reg:linear is now deprecated in favor of reg:squarederror.\n",
            "[CV]  n_estimators=450, min_child_weight=3, max_depth=90, learning_rate=0.05, colsample_tree=1, score=0.994, total=  22.1s\n",
            "[CV] n_estimators=450, min_child_weight=3, max_depth=90, learning_rate=0.05, colsample_tree=1 \n",
            "[13:11:55] WARNING: /workspace/src/objective/regression_obj.cu:152: reg:linear is now deprecated in favor of reg:squarederror.\n",
            "[CV]  n_estimators=450, min_child_weight=3, max_depth=90, learning_rate=0.05, colsample_tree=1, score=0.993, total=  23.5s\n",
            "[CV] n_estimators=450, min_child_weight=3, max_depth=90, learning_rate=0.05, colsample_tree=1 \n",
            "[13:12:19] WARNING: /workspace/src/objective/regression_obj.cu:152: reg:linear is now deprecated in favor of reg:squarederror.\n",
            "[CV]  n_estimators=450, min_child_weight=3, max_depth=90, learning_rate=0.05, colsample_tree=1, score=0.994, total=  23.9s\n",
            "[13:12:43] WARNING: /workspace/src/objective/regression_obj.cu:152: reg:linear is now deprecated in favor of reg:squarederror.\n"
          ],
          "name": "stdout"
        },
        {
          "output_type": "stream",
          "text": [
            "[Parallel(n_jobs=1)]: Done 100 out of 100 | elapsed: 20.4min finished\n"
          ],
          "name": "stderr"
        },
        {
          "output_type": "execute_result",
          "data": {
            "text/plain": [
              "RandomizedSearchCV(cv=10, error_score=nan,\n",
              "                   estimator=XGBRegressor(base_score=0.5, booster='gbtree',\n",
              "                                          colsample_bylevel=1,\n",
              "                                          colsample_bynode=1,\n",
              "                                          colsample_bytree=1, gamma=0,\n",
              "                                          importance_type='gain',\n",
              "                                          learning_rate=0.1, max_delta_step=0,\n",
              "                                          max_depth=3, min_child_weight=1,\n",
              "                                          missing=None, n_estimators=100,\n",
              "                                          n_jobs=1, nthread=None,\n",
              "                                          objective='reg:linear',\n",
              "                                          random_state=0, reg_alpha...\n",
              "                   iid='deprecated', n_iter=10, n_jobs=None,\n",
              "                   param_distributions={'colsample_tree': [1, 2],\n",
              "                                        'learning_rate': [0.001, 0.005, 0.01,\n",
              "                                                          0.05, 0.1],\n",
              "                                        'max_depth': [10, 20, 30, 40, 50, 60,\n",
              "                                                      70, 80, 90, 100, 110],\n",
              "                                        'min_child_weight': [3, 5, 7],\n",
              "                                        'n_estimators': [50, 100, 150, 200, 250,\n",
              "                                                         300, 350, 400, 450,\n",
              "                                                         500]},\n",
              "                   pre_dispatch='2*n_jobs', random_state=42, refit=True,\n",
              "                   return_train_score=False, scoring=None, verbose=3)"
            ]
          },
          "metadata": {
            "tags": []
          },
          "execution_count": 597
        }
      ]
    },
    {
      "cell_type": "code",
      "metadata": {
        "id": "PUlbXqz75vPl",
        "colab_type": "code",
        "outputId": "c50e4dd1-5f20-4bb6-8936-d6b5e0dc08c7",
        "colab": {
          "base_uri": "https://localhost:8080/",
          "height": 102
        }
      },
      "source": [
        "random_xgbr.best_params_"
      ],
      "execution_count": 599,
      "outputs": [
        {
          "output_type": "execute_result",
          "data": {
            "text/plain": [
              "{'colsample_tree': 2,\n",
              " 'learning_rate': 0.1,\n",
              " 'max_depth': 70,\n",
              " 'min_child_weight': 7,\n",
              " 'n_estimators': 250}"
            ]
          },
          "metadata": {
            "tags": []
          },
          "execution_count": 599
        }
      ]
    },
    {
      "cell_type": "code",
      "metadata": {
        "id": "wPKMUyAU8zd3",
        "colab_type": "code",
        "colab": {}
      },
      "source": [
        "model_xgbr = xgb.XGBRegressor(colsample_tree=2, learning_rate=0.1, max_depth=70, min_child_weight=7, n_estimators=250)"
      ],
      "execution_count": 0,
      "outputs": []
    },
    {
      "cell_type": "code",
      "metadata": {
        "id": "rFIK0abhui6j",
        "colab_type": "code",
        "outputId": "2e28b8fe-24b3-4c92-a4f4-66e7fe2980ef",
        "colab": {
          "base_uri": "https://localhost:8080/",
          "height": 173
        }
      },
      "source": [
        "model_xgbr.fit(X_train, y_train)"
      ],
      "execution_count": 601,
      "outputs": [
        {
          "output_type": "stream",
          "text": [
            "[13:13:37] WARNING: /workspace/src/objective/regression_obj.cu:152: reg:linear is now deprecated in favor of reg:squarederror.\n"
          ],
          "name": "stdout"
        },
        {
          "output_type": "execute_result",
          "data": {
            "text/plain": [
              "XGBRegressor(base_score=0.5, booster='gbtree', colsample_bylevel=1,\n",
              "             colsample_bynode=1, colsample_bytree=1, colsample_tree=2, gamma=0,\n",
              "             importance_type='gain', learning_rate=0.1, max_delta_step=0,\n",
              "             max_depth=70, min_child_weight=7, missing=None, n_estimators=250,\n",
              "             n_jobs=1, nthread=None, objective='reg:linear', random_state=0,\n",
              "             reg_alpha=0, reg_lambda=1, scale_pos_weight=1, seed=None,\n",
              "             silent=None, subsample=1, verbosity=1)"
            ]
          },
          "metadata": {
            "tags": []
          },
          "execution_count": 601
        }
      ]
    },
    {
      "cell_type": "code",
      "metadata": {
        "id": "YMF1dxyvumru",
        "colab_type": "code",
        "colab": {}
      },
      "source": [
        "labels_xgbr = model_xgbr.predict(X_test)"
      ],
      "execution_count": 0,
      "outputs": []
    },
    {
      "cell_type": "code",
      "metadata": {
        "id": "oRtIFJqTurrZ",
        "colab_type": "code",
        "outputId": "32efa14d-b992-4b20-ba48-727c3835fec0",
        "colab": {
          "base_uri": "https://localhost:8080/",
          "height": 34
        }
      },
      "source": [
        "rmse_xgbr = np.sqrt(mean_squared_error(y_test, labels_xgbr))\n",
        "rmse_xgbr"
      ],
      "execution_count": 603,
      "outputs": [
        {
          "output_type": "execute_result",
          "data": {
            "text/plain": [
              "0.10998201040833262"
            ]
          },
          "metadata": {
            "tags": []
          },
          "execution_count": 603
        }
      ]
    },
    {
      "cell_type": "code",
      "metadata": {
        "id": "AasVJNmEu9nr",
        "colab_type": "code",
        "outputId": "abc71e8b-4930-4a5d-bb9a-b530cb98762c",
        "colab": {
          "base_uri": "https://localhost:8080/",
          "height": 173
        }
      },
      "source": [
        "model_xgbr.fit(X,y)"
      ],
      "execution_count": 604,
      "outputs": [
        {
          "output_type": "stream",
          "text": [
            "[13:16:09] WARNING: /workspace/src/objective/regression_obj.cu:152: reg:linear is now deprecated in favor of reg:squarederror.\n"
          ],
          "name": "stdout"
        },
        {
          "output_type": "execute_result",
          "data": {
            "text/plain": [
              "XGBRegressor(base_score=0.5, booster='gbtree', colsample_bylevel=1,\n",
              "             colsample_bynode=1, colsample_bytree=1, colsample_tree=2, gamma=0,\n",
              "             importance_type='gain', learning_rate=0.1, max_delta_step=0,\n",
              "             max_depth=70, min_child_weight=7, missing=None, n_estimators=250,\n",
              "             n_jobs=1, nthread=None, objective='reg:linear', random_state=0,\n",
              "             reg_alpha=0, reg_lambda=1, scale_pos_weight=1, seed=None,\n",
              "             silent=None, subsample=1, verbosity=1)"
            ]
          },
          "metadata": {
            "tags": []
          },
          "execution_count": 604
        }
      ]
    },
    {
      "cell_type": "code",
      "metadata": {
        "id": "gi0ol_fW9YAh",
        "colab_type": "code",
        "colab": {}
      },
      "source": [
        "predictions_xgbr = model_xgbr.predict(test[X.columns])"
      ],
      "execution_count": 0,
      "outputs": []
    },
    {
      "cell_type": "markdown",
      "metadata": {
        "id": "jFT6CT5eGkSX",
        "colab_type": "text"
      },
      "source": [
        "# Implementing using lgbm.LGBMRegressor()"
      ]
    },
    {
      "cell_type": "code",
      "metadata": {
        "id": "oIxglpYHEiIV",
        "colab_type": "code",
        "colab": {}
      },
      "source": [
        "model_lgbm = lgbm.LGBMRegressor()"
      ],
      "execution_count": 0,
      "outputs": []
    },
    {
      "cell_type": "code",
      "metadata": {
        "id": "rvOX972REqcp",
        "colab_type": "code",
        "colab": {}
      },
      "source": [
        "params_lgbm = {\n",
        "    'num_leaves' : [5, 10, 15, 20, 25, 30, 35, 40, 45, 50, 55, 60, 65, 70, 75, 80, 85, 90, 95, 100],\n",
        "    \"n_estimators\" : [int(x) for x in np.linspace(50, 500, 10)],\n",
        "    \"learning_rate\" : [0.001, 0.005, 0.01, 0.05, 0.1, 0.5],\n",
        "    'max_depth' : [int(x) for x in np.linspace(10, 110, 11)]\n",
        "}"
      ],
      "execution_count": 0,
      "outputs": []
    },
    {
      "cell_type": "code",
      "metadata": {
        "id": "LYZ1D_rBFUAx",
        "colab_type": "code",
        "colab": {}
      },
      "source": [
        "random_lgbm = RandomizedSearchCV(estimator=model_lgbm, param_distributions=params_lgbm, cv=5, verbose=3, random_state=42)"
      ],
      "execution_count": 0,
      "outputs": []
    },
    {
      "cell_type": "code",
      "metadata": {
        "id": "YgU_DICOFplo",
        "colab_type": "code",
        "colab": {
          "base_uri": "https://localhost:8080/",
          "height": 1000
        },
        "outputId": "cfc36ecf-3e74-41e7-b2d7-8e12d6c9ff79"
      },
      "source": [
        "random_lgbm.fit(X_train, y_train)"
      ],
      "execution_count": 611,
      "outputs": [
        {
          "output_type": "stream",
          "text": [
            "Fitting 5 folds for each of 10 candidates, totalling 50 fits\n",
            "[CV] num_leaves=55, n_estimators=200, max_depth=40, learning_rate=0.05 \n"
          ],
          "name": "stdout"
        },
        {
          "output_type": "stream",
          "text": [
            "[Parallel(n_jobs=1)]: Using backend SequentialBackend with 1 concurrent workers.\n"
          ],
          "name": "stderr"
        },
        {
          "output_type": "stream",
          "text": [
            "[CV]  num_leaves=55, n_estimators=200, max_depth=40, learning_rate=0.05, score=0.992, total=   0.5s\n",
            "[CV] num_leaves=55, n_estimators=200, max_depth=40, learning_rate=0.05 \n"
          ],
          "name": "stdout"
        },
        {
          "output_type": "stream",
          "text": [
            "[Parallel(n_jobs=1)]: Done   1 out of   1 | elapsed:    0.5s remaining:    0.0s\n"
          ],
          "name": "stderr"
        },
        {
          "output_type": "stream",
          "text": [
            "[CV]  num_leaves=55, n_estimators=200, max_depth=40, learning_rate=0.05, score=0.991, total=   0.5s\n",
            "[CV] num_leaves=55, n_estimators=200, max_depth=40, learning_rate=0.05 \n"
          ],
          "name": "stdout"
        },
        {
          "output_type": "stream",
          "text": [
            "[Parallel(n_jobs=1)]: Done   2 out of   2 | elapsed:    1.0s remaining:    0.0s\n"
          ],
          "name": "stderr"
        },
        {
          "output_type": "stream",
          "text": [
            "[CV]  num_leaves=55, n_estimators=200, max_depth=40, learning_rate=0.05, score=0.992, total=   0.5s\n",
            "[CV] num_leaves=55, n_estimators=200, max_depth=40, learning_rate=0.05 \n",
            "[CV]  num_leaves=55, n_estimators=200, max_depth=40, learning_rate=0.05, score=0.992, total=   0.5s\n",
            "[CV] num_leaves=55, n_estimators=200, max_depth=40, learning_rate=0.05 \n",
            "[CV]  num_leaves=55, n_estimators=200, max_depth=40, learning_rate=0.05, score=0.990, total=   0.5s\n",
            "[CV] num_leaves=5, n_estimators=200, max_depth=50, learning_rate=0.001 \n",
            "[CV]  num_leaves=5, n_estimators=200, max_depth=50, learning_rate=0.001, score=0.132, total=   0.2s\n",
            "[CV] num_leaves=5, n_estimators=200, max_depth=50, learning_rate=0.001 \n",
            "[CV]  num_leaves=5, n_estimators=200, max_depth=50, learning_rate=0.001, score=0.137, total=   0.2s\n",
            "[CV] num_leaves=5, n_estimators=200, max_depth=50, learning_rate=0.001 \n",
            "[CV]  num_leaves=5, n_estimators=200, max_depth=50, learning_rate=0.001, score=0.131, total=   0.2s\n",
            "[CV] num_leaves=5, n_estimators=200, max_depth=50, learning_rate=0.001 \n",
            "[CV]  num_leaves=5, n_estimators=200, max_depth=50, learning_rate=0.001, score=0.135, total=   0.2s\n",
            "[CV] num_leaves=5, n_estimators=200, max_depth=50, learning_rate=0.001 \n",
            "[CV]  num_leaves=5, n_estimators=200, max_depth=50, learning_rate=0.001, score=0.136, total=   0.2s\n",
            "[CV] num_leaves=55, n_estimators=500, max_depth=50, learning_rate=0.01 \n",
            "[CV]  num_leaves=55, n_estimators=500, max_depth=50, learning_rate=0.01, score=0.974, total=   1.1s\n",
            "[CV] num_leaves=55, n_estimators=500, max_depth=50, learning_rate=0.01 \n",
            "[CV]  num_leaves=55, n_estimators=500, max_depth=50, learning_rate=0.01, score=0.970, total=   1.1s\n",
            "[CV] num_leaves=55, n_estimators=500, max_depth=50, learning_rate=0.01 \n",
            "[CV]  num_leaves=55, n_estimators=500, max_depth=50, learning_rate=0.01, score=0.972, total=   1.1s\n",
            "[CV] num_leaves=55, n_estimators=500, max_depth=50, learning_rate=0.01 \n",
            "[CV]  num_leaves=55, n_estimators=500, max_depth=50, learning_rate=0.01, score=0.971, total=   1.1s\n",
            "[CV] num_leaves=55, n_estimators=500, max_depth=50, learning_rate=0.01 \n",
            "[CV]  num_leaves=55, n_estimators=500, max_depth=50, learning_rate=0.01, score=0.968, total=   1.1s\n",
            "[CV] num_leaves=60, n_estimators=500, max_depth=40, learning_rate=0.01 \n",
            "[CV]  num_leaves=60, n_estimators=500, max_depth=40, learning_rate=0.01, score=0.977, total=   1.2s\n",
            "[CV] num_leaves=60, n_estimators=500, max_depth=40, learning_rate=0.01 \n",
            "[CV]  num_leaves=60, n_estimators=500, max_depth=40, learning_rate=0.01, score=0.973, total=   1.2s\n",
            "[CV] num_leaves=60, n_estimators=500, max_depth=40, learning_rate=0.01 \n",
            "[CV]  num_leaves=60, n_estimators=500, max_depth=40, learning_rate=0.01, score=0.975, total=   1.2s\n",
            "[CV] num_leaves=60, n_estimators=500, max_depth=40, learning_rate=0.01 \n",
            "[CV]  num_leaves=60, n_estimators=500, max_depth=40, learning_rate=0.01, score=0.974, total=   1.2s\n",
            "[CV] num_leaves=60, n_estimators=500, max_depth=40, learning_rate=0.01 \n",
            "[CV]  num_leaves=60, n_estimators=500, max_depth=40, learning_rate=0.01, score=0.971, total=   1.2s\n",
            "[CV] num_leaves=25, n_estimators=450, max_depth=50, learning_rate=0.5 \n",
            "[CV]  num_leaves=25, n_estimators=450, max_depth=50, learning_rate=0.5, score=0.998, total=   0.6s\n",
            "[CV] num_leaves=25, n_estimators=450, max_depth=50, learning_rate=0.5 \n",
            "[CV]  num_leaves=25, n_estimators=450, max_depth=50, learning_rate=0.5, score=0.997, total=   0.6s\n",
            "[CV] num_leaves=25, n_estimators=450, max_depth=50, learning_rate=0.5 \n",
            "[CV]  num_leaves=25, n_estimators=450, max_depth=50, learning_rate=0.5, score=0.997, total=   0.6s\n",
            "[CV] num_leaves=25, n_estimators=450, max_depth=50, learning_rate=0.5 \n",
            "[CV]  num_leaves=25, n_estimators=450, max_depth=50, learning_rate=0.5, score=0.997, total=   0.6s\n",
            "[CV] num_leaves=25, n_estimators=450, max_depth=50, learning_rate=0.5 \n",
            "[CV]  num_leaves=25, n_estimators=450, max_depth=50, learning_rate=0.5, score=0.997, total=   0.6s\n",
            "[CV] num_leaves=25, n_estimators=250, max_depth=20, learning_rate=0.5 \n",
            "[CV]  num_leaves=25, n_estimators=250, max_depth=20, learning_rate=0.5, score=0.998, total=   0.4s\n",
            "[CV] num_leaves=25, n_estimators=250, max_depth=20, learning_rate=0.5 \n",
            "[CV]  num_leaves=25, n_estimators=250, max_depth=20, learning_rate=0.5, score=0.997, total=   0.4s\n",
            "[CV] num_leaves=25, n_estimators=250, max_depth=20, learning_rate=0.5 \n",
            "[CV]  num_leaves=25, n_estimators=250, max_depth=20, learning_rate=0.5, score=0.997, total=   0.4s\n",
            "[CV] num_leaves=25, n_estimators=250, max_depth=20, learning_rate=0.5 \n",
            "[CV]  num_leaves=25, n_estimators=250, max_depth=20, learning_rate=0.5, score=0.997, total=   0.4s\n",
            "[CV] num_leaves=25, n_estimators=250, max_depth=20, learning_rate=0.5 \n",
            "[CV]  num_leaves=25, n_estimators=250, max_depth=20, learning_rate=0.5, score=0.997, total=   0.4s\n",
            "[CV] num_leaves=75, n_estimators=350, max_depth=70, learning_rate=0.01 \n",
            "[CV]  num_leaves=75, n_estimators=350, max_depth=70, learning_rate=0.01, score=0.958, total=   0.9s\n",
            "[CV] num_leaves=75, n_estimators=350, max_depth=70, learning_rate=0.01 \n",
            "[CV]  num_leaves=75, n_estimators=350, max_depth=70, learning_rate=0.01, score=0.956, total=   0.9s\n",
            "[CV] num_leaves=75, n_estimators=350, max_depth=70, learning_rate=0.01 \n",
            "[CV]  num_leaves=75, n_estimators=350, max_depth=70, learning_rate=0.01, score=0.959, total=   0.9s\n",
            "[CV] num_leaves=75, n_estimators=350, max_depth=70, learning_rate=0.01 \n",
            "[CV]  num_leaves=75, n_estimators=350, max_depth=70, learning_rate=0.01, score=0.956, total=   0.9s\n",
            "[CV] num_leaves=75, n_estimators=350, max_depth=70, learning_rate=0.01 \n",
            "[CV]  num_leaves=75, n_estimators=350, max_depth=70, learning_rate=0.01, score=0.954, total=   0.9s\n",
            "[CV] num_leaves=30, n_estimators=200, max_depth=100, learning_rate=0.01 \n",
            "[CV]  num_leaves=30, n_estimators=200, max_depth=100, learning_rate=0.01, score=0.812, total=   0.3s\n",
            "[CV] num_leaves=30, n_estimators=200, max_depth=100, learning_rate=0.01 \n",
            "[CV]  num_leaves=30, n_estimators=200, max_depth=100, learning_rate=0.01, score=0.815, total=   0.3s\n",
            "[CV] num_leaves=30, n_estimators=200, max_depth=100, learning_rate=0.01 \n",
            "[CV]  num_leaves=30, n_estimators=200, max_depth=100, learning_rate=0.01, score=0.818, total=   0.3s\n",
            "[CV] num_leaves=30, n_estimators=200, max_depth=100, learning_rate=0.01 \n",
            "[CV]  num_leaves=30, n_estimators=200, max_depth=100, learning_rate=0.01, score=0.811, total=   0.3s\n",
            "[CV] num_leaves=30, n_estimators=200, max_depth=100, learning_rate=0.01 \n",
            "[CV]  num_leaves=30, n_estimators=200, max_depth=100, learning_rate=0.01, score=0.813, total=   0.3s\n",
            "[CV] num_leaves=35, n_estimators=200, max_depth=30, learning_rate=0.001 \n",
            "[CV]  num_leaves=35, n_estimators=200, max_depth=30, learning_rate=0.001, score=0.228, total=   0.4s\n",
            "[CV] num_leaves=35, n_estimators=200, max_depth=30, learning_rate=0.001 \n",
            "[CV]  num_leaves=35, n_estimators=200, max_depth=30, learning_rate=0.001, score=0.230, total=   0.4s\n",
            "[CV] num_leaves=35, n_estimators=200, max_depth=30, learning_rate=0.001 \n",
            "[CV]  num_leaves=35, n_estimators=200, max_depth=30, learning_rate=0.001, score=0.228, total=   0.4s\n",
            "[CV] num_leaves=35, n_estimators=200, max_depth=30, learning_rate=0.001 \n",
            "[CV]  num_leaves=35, n_estimators=200, max_depth=30, learning_rate=0.001, score=0.227, total=   0.4s\n",
            "[CV] num_leaves=35, n_estimators=200, max_depth=30, learning_rate=0.001 \n",
            "[CV]  num_leaves=35, n_estimators=200, max_depth=30, learning_rate=0.001, score=0.231, total=   0.4s\n",
            "[CV] num_leaves=35, n_estimators=100, max_depth=10, learning_rate=0.01 \n",
            "[CV]  num_leaves=35, n_estimators=100, max_depth=10, learning_rate=0.01, score=0.645, total=   0.2s\n",
            "[CV] num_leaves=35, n_estimators=100, max_depth=10, learning_rate=0.01 \n",
            "[CV]  num_leaves=35, n_estimators=100, max_depth=10, learning_rate=0.01, score=0.645, total=   0.2s\n",
            "[CV] num_leaves=35, n_estimators=100, max_depth=10, learning_rate=0.01 \n",
            "[CV]  num_leaves=35, n_estimators=100, max_depth=10, learning_rate=0.01, score=0.650, total=   0.2s\n",
            "[CV] num_leaves=35, n_estimators=100, max_depth=10, learning_rate=0.01 \n",
            "[CV]  num_leaves=35, n_estimators=100, max_depth=10, learning_rate=0.01, score=0.645, total=   0.2s\n",
            "[CV] num_leaves=35, n_estimators=100, max_depth=10, learning_rate=0.01 \n",
            "[CV]  num_leaves=35, n_estimators=100, max_depth=10, learning_rate=0.01, score=0.646, total=   0.2s\n"
          ],
          "name": "stdout"
        },
        {
          "output_type": "stream",
          "text": [
            "[Parallel(n_jobs=1)]: Done  50 out of  50 | elapsed:   28.6s finished\n"
          ],
          "name": "stderr"
        },
        {
          "output_type": "execute_result",
          "data": {
            "text/plain": [
              "RandomizedSearchCV(cv=5, error_score=nan,\n",
              "                   estimator=LGBMRegressor(boosting_type='gbdt',\n",
              "                                           class_weight=None,\n",
              "                                           colsample_bytree=1.0,\n",
              "                                           importance_type='split',\n",
              "                                           learning_rate=0.1, max_depth=-1,\n",
              "                                           min_child_samples=20,\n",
              "                                           min_child_weight=0.001,\n",
              "                                           min_split_gain=0.0, n_estimators=100,\n",
              "                                           n_jobs=-1, num_leaves=31,\n",
              "                                           objective=None, random_state=None,\n",
              "                                           reg_alpha=0.0, reg_lambda=0.0,\n",
              "                                           silen...\n",
              "                   iid='deprecated', n_iter=10, n_jobs=None,\n",
              "                   param_distributions={'learning_rate': [0.001, 0.005, 0.01,\n",
              "                                                          0.05, 0.1, 0.5],\n",
              "                                        'max_depth': [10, 20, 30, 40, 50, 60,\n",
              "                                                      70, 80, 90, 100, 110],\n",
              "                                        'n_estimators': [50, 100, 150, 200, 250,\n",
              "                                                         300, 350, 400, 450,\n",
              "                                                         500],\n",
              "                                        'num_leaves': [5, 10, 15, 20, 25, 30,\n",
              "                                                       35, 40, 45, 50, 55, 60,\n",
              "                                                       65, 70, 75, 80, 85, 90,\n",
              "                                                       95, 100]},\n",
              "                   pre_dispatch='2*n_jobs', random_state=42, refit=True,\n",
              "                   return_train_score=False, scoring=None, verbose=3)"
            ]
          },
          "metadata": {
            "tags": []
          },
          "execution_count": 611
        }
      ]
    },
    {
      "cell_type": "code",
      "metadata": {
        "id": "9ObH6_PKFu2I",
        "colab_type": "code",
        "colab": {
          "base_uri": "https://localhost:8080/",
          "height": 34
        },
        "outputId": "13684cec-4907-4a6e-c277-953077062c9c"
      },
      "source": [
        "random_lgbm.best_params_"
      ],
      "execution_count": 612,
      "outputs": [
        {
          "output_type": "execute_result",
          "data": {
            "text/plain": [
              "{'learning_rate': 0.5, 'max_depth': 50, 'n_estimators': 450, 'num_leaves': 25}"
            ]
          },
          "metadata": {
            "tags": []
          },
          "execution_count": 612
        }
      ]
    },
    {
      "cell_type": "code",
      "metadata": {
        "id": "WCKA5o8aF8Gv",
        "colab_type": "code",
        "colab": {}
      },
      "source": [
        "model_lgbm = lgbm.LGBMRegressor(learning_rate=0.5, max_depth=50, n_estimators=450, num_leaves=25)"
      ],
      "execution_count": 0,
      "outputs": []
    },
    {
      "cell_type": "code",
      "metadata": {
        "id": "8R4E9_aTNwQf",
        "colab_type": "code",
        "outputId": "4cb9ef21-1935-40e6-8e54-26dee6156658",
        "colab": {
          "base_uri": "https://localhost:8080/",
          "height": 119
        }
      },
      "source": [
        "model_lgbm.fit(X_train, y_train)"
      ],
      "execution_count": 614,
      "outputs": [
        {
          "output_type": "execute_result",
          "data": {
            "text/plain": [
              "LGBMRegressor(boosting_type='gbdt', class_weight=None, colsample_bytree=1.0,\n",
              "              importance_type='split', learning_rate=0.5, max_depth=50,\n",
              "              min_child_samples=20, min_child_weight=0.001, min_split_gain=0.0,\n",
              "              n_estimators=450, n_jobs=-1, num_leaves=25, objective=None,\n",
              "              random_state=None, reg_alpha=0.0, reg_lambda=0.0, silent=True,\n",
              "              subsample=1.0, subsample_for_bin=200000, subsample_freq=0)"
            ]
          },
          "metadata": {
            "tags": []
          },
          "execution_count": 614
        }
      ]
    },
    {
      "cell_type": "code",
      "metadata": {
        "id": "Mq1st2E5Nzrc",
        "colab_type": "code",
        "colab": {}
      },
      "source": [
        "labels_lgbm = model_lgbm.predict(X_test)"
      ],
      "execution_count": 0,
      "outputs": []
    },
    {
      "cell_type": "code",
      "metadata": {
        "id": "6UZ3zwOwN6Jj",
        "colab_type": "code",
        "colab": {}
      },
      "source": [
        "rmse_lgbm = np.sqrt(mean_squared_error(y_test, labels_lgbm))"
      ],
      "execution_count": 0,
      "outputs": []
    },
    {
      "cell_type": "code",
      "metadata": {
        "id": "ItNeqYSfvzKp",
        "colab_type": "code",
        "outputId": "3b6a316b-4159-4d28-f22f-5c5dd5e41afb",
        "colab": {
          "base_uri": "https://localhost:8080/",
          "height": 34
        }
      },
      "source": [
        "rmse_lgbm"
      ],
      "execution_count": 617,
      "outputs": [
        {
          "output_type": "execute_result",
          "data": {
            "text/plain": [
              "0.08843337454558121"
            ]
          },
          "metadata": {
            "tags": []
          },
          "execution_count": 617
        }
      ]
    },
    {
      "cell_type": "code",
      "metadata": {
        "id": "0ybFDCNbPQLH",
        "colab_type": "code",
        "outputId": "9ec89c91-bc7d-43c1-d2d9-c80e34c87f0b",
        "colab": {
          "base_uri": "https://localhost:8080/",
          "height": 119
        }
      },
      "source": [
        "model_lgbm.fit(X,y)"
      ],
      "execution_count": 618,
      "outputs": [
        {
          "output_type": "execute_result",
          "data": {
            "text/plain": [
              "LGBMRegressor(boosting_type='gbdt', class_weight=None, colsample_bytree=1.0,\n",
              "              importance_type='split', learning_rate=0.5, max_depth=50,\n",
              "              min_child_samples=20, min_child_weight=0.001, min_split_gain=0.0,\n",
              "              n_estimators=450, n_jobs=-1, num_leaves=25, objective=None,\n",
              "              random_state=None, reg_alpha=0.0, reg_lambda=0.0, silent=True,\n",
              "              subsample=1.0, subsample_for_bin=200000, subsample_freq=0)"
            ]
          },
          "metadata": {
            "tags": []
          },
          "execution_count": 618
        }
      ]
    },
    {
      "cell_type": "code",
      "metadata": {
        "id": "_k_BEbqVP-ZU",
        "colab_type": "code",
        "colab": {}
      },
      "source": [
        "predictions_lgbm = model_lgbm.predict(test[X.columns])"
      ],
      "execution_count": 0,
      "outputs": []
    },
    {
      "cell_type": "markdown",
      "metadata": {
        "id": "aB0ZrlFzHFLK",
        "colab_type": "text"
      },
      "source": [
        "# Combining Solutions"
      ]
    },
    {
      "cell_type": "code",
      "metadata": {
        "id": "qyxABbPa_sHy",
        "colab_type": "code",
        "colab": {}
      },
      "source": [
        "c_dict = {\n",
        "    'lgbm' : labels_lgbm,\n",
        "    'xgbr' : labels_xgbr,\n",
        "}\n",
        "combined = pd.DataFrame(data=c_dict)"
      ],
      "execution_count": 0,
      "outputs": []
    },
    {
      "cell_type": "code",
      "metadata": {
        "id": "_UAILg1IC6De",
        "colab_type": "code",
        "colab": {}
      },
      "source": [
        "def stack(df):\n",
        "  stack_l = []\n",
        "  for i in range(len(df)):\n",
        "    stack_l.append((df.lgbm[i] * 0.5 + df.xgbr[i] * 0.5))\n",
        "  \n",
        "  return stack_l"
      ],
      "execution_count": 0,
      "outputs": []
    },
    {
      "cell_type": "code",
      "metadata": {
        "id": "axVxQgCCPtr4",
        "colab_type": "code",
        "colab": {}
      },
      "source": [
        "avg = stack(combined)"
      ],
      "execution_count": 0,
      "outputs": []
    },
    {
      "cell_type": "code",
      "metadata": {
        "id": "fV22afPnP03N",
        "colab_type": "code",
        "colab": {}
      },
      "source": [
        "rmse_combined = np.sqrt(mean_squared_error(y_test, avg))"
      ],
      "execution_count": 0,
      "outputs": []
    },
    {
      "cell_type": "code",
      "metadata": {
        "id": "QAVnTnDcQHVT",
        "colab_type": "code",
        "outputId": "c08da6cf-53bb-4f51-884e-d1ce9d13c238",
        "colab": {
          "base_uri": "https://localhost:8080/",
          "height": 34
        }
      },
      "source": [
        "rmse_combined"
      ],
      "execution_count": 629,
      "outputs": [
        {
          "output_type": "execute_result",
          "data": {
            "text/plain": [
              "0.09193697743577045"
            ]
          },
          "metadata": {
            "tags": []
          },
          "execution_count": 629
        }
      ]
    },
    {
      "cell_type": "code",
      "metadata": {
        "id": "HSvLY95EQMR1",
        "colab_type": "code",
        "colab": {}
      },
      "source": [
        "combined_dict = {\n",
        "    'lgbm' : predictions_lgbm,\n",
        "    'xgbr' : predictions_xgbr,\n",
        "}\n",
        "combined_preds = pd.DataFrame(data=combined_dict)"
      ],
      "execution_count": 0,
      "outputs": []
    },
    {
      "cell_type": "code",
      "metadata": {
        "id": "WhVGse0RQY9J",
        "colab_type": "code",
        "colab": {}
      },
      "source": [
        "predictions = stack(combined_preds)"
      ],
      "execution_count": 0,
      "outputs": []
    },
    {
      "cell_type": "markdown",
      "metadata": {
        "id": "EjxAGeS1HOR_",
        "colab_type": "text"
      },
      "source": [
        "# Submission"
      ]
    },
    {
      "cell_type": "code",
      "metadata": {
        "id": "sPOlttuzRHfy",
        "colab_type": "code",
        "colab": {}
      },
      "source": [
        "submissions = pd.DataFrame(data=predictions, index=test.patient_id, columns=['base_score'])"
      ],
      "execution_count": 0,
      "outputs": []
    },
    {
      "cell_type": "code",
      "metadata": {
        "id": "CFIg6IWoRf3e",
        "colab_type": "code",
        "colab": {}
      },
      "source": [
        "submissions.to_csv('submission.csv')"
      ],
      "execution_count": 0,
      "outputs": []
    }
  ]
}